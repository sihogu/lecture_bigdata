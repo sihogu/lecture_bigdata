{
 "cells": [
  {
   "cell_type": "code",
   "execution_count": 28,
   "id": "e75f1c0d",
   "metadata": {},
   "outputs": [],
   "source": [
    "#리스트\n",
    "student1 = ['hong', '홍길동','A','구로']\n",
    "student2 = ['hwang','B','역삼','황진이']\n",
    "\n",
    "#딕셔너리\n",
    "student3 = {'id' : 'hong', 'name':'홍길동','class':'A','address':'구로'}\n",
    "student4 = {'id':'hwang','class':'B','address':'역삼','name':'황진이'}"
   ]
  },
  {
   "cell_type": "code",
   "execution_count": 12,
   "id": "6877a3b0",
   "metadata": {},
   "outputs": [
    {
     "name": "stdout",
     "output_type": "stream",
     "text": [
      "hong\n"
     ]
    }
   ],
   "source": [
    "#딕셔너리는 리스트와 달리 인덱싱할 때 나열된 순서를 알필요없이 key로 값을 알 수 있다.\n",
    "print(student3['id'])"
   ]
  },
  {
   "cell_type": "code",
   "execution_count": 15,
   "id": "220b7114",
   "metadata": {},
   "outputs": [],
   "source": [
    "import pandas as pd"
   ]
  },
  {
   "cell_type": "code",
   "execution_count": 22,
   "id": "014c45e1",
   "metadata": {},
   "outputs": [
    {
     "ename": "NameError",
     "evalue": "name 'sr3' is not defined",
     "output_type": "error",
     "traceback": [
      "\u001b[1;31m---------------------------------------------------------------------------\u001b[0m",
      "\u001b[1;31mNameError\u001b[0m                                 Traceback (most recent call last)",
      "Cell \u001b[1;32mIn[22], line 2\u001b[0m\n\u001b[0;32m      1\u001b[0m sr1 \u001b[38;5;241m=\u001b[39m pd\u001b[38;5;241m.\u001b[39mSeries(student1)\n\u001b[1;32m----> 2\u001b[0m \u001b[38;5;28mprint\u001b[39m(sr3)\n\u001b[0;32m      3\u001b[0m \u001b[38;5;28mprint\u001b[39m()\n",
      "\u001b[1;31mNameError\u001b[0m: name 'sr3' is not defined"
     ]
    }
   ],
   "source": [
    "#리스트를 Series화 : 인덱스 번호가 정수로 초기값이 된다.\n",
    "sr1 = pd.Series(student1)\n",
    "print(sr1)\n",
    "print()\n",
    "print(sr1[1])"
   ]
  },
  {
   "cell_type": "code",
   "execution_count": 33,
   "id": "0852618f",
   "metadata": {},
   "outputs": [
    {
     "name": "stdout",
     "output_type": "stream",
     "text": [
      "id         hong\n",
      "name        홍길동\n",
      "class         A\n",
      "address      구로\n",
      "dtype: object\n",
      "\n",
      "구로\n",
      "hong\n",
      "Index(['id', 'name', 'class', 'address'], dtype='object')\n",
      "['hong' '홍길동' 'A' '구로']\n"
     ]
    }
   ],
   "source": [
    "#딕셔너리를 Series화 : Key는 index명이 되고, values는 value가 된다.\n",
    "sr3 = pd.Series(student3)\n",
    "print(sr3)\n",
    "print()\n",
    "print(sr3[-1]) #Series는 리스트 인덱싱처럼 사용 가능\n",
    "print(sr3['id']) #Series는 딕셔너리처럼 키로 값을 추출 가능\n",
    "\n",
    "#index, values만 뽑아서 리스트로 반환\n",
    "print(sr3.index)\n",
    "print(sr3.values)"
   ]
  },
  {
   "cell_type": "code",
   "execution_count": 32,
   "id": "b2d544b9",
   "metadata": {},
   "outputs": [
    {
     "name": "stdout",
     "output_type": "stream",
     "text": [
      "0    2019-01-02\n",
      "1          3.14\n",
      "2           ABC\n",
      "3           100\n",
      "4          True\n",
      "dtype: object\n"
     ]
    }
   ],
   "source": [
    "list_data = ['2019-01-02', 3.14, 'ABC', 100, True]\n",
    "\n",
    "sr6 = pd.Series(list_data)\n",
    "print(sr6)"
   ]
  },
  {
   "cell_type": "code",
   "execution_count": 40,
   "id": "6b9249f4",
   "metadata": {},
   "outputs": [
    {
     "name": "stdout",
     "output_type": "stream",
     "text": [
      "a    10\n",
      "b    20\n",
      "c    30\n",
      "d    40\n",
      "e    50\n",
      "f    60\n",
      "dtype: int64\n",
      "\n",
      "b    20\n",
      "c    30\n",
      "d    40\n",
      "e    50\n",
      "dtype: int64\n",
      "b    20\n",
      "c    30\n",
      "d    40\n",
      "dtype: int64\n"
     ]
    }
   ],
   "source": [
    "sr7 = pd.Series({'a':10,'b':20,'c':30,'d':40,'e':50,'f':60})\n",
    "print(sr7)\n",
    "print()\n",
    "\n",
    "\n",
    "print(sr7['b':'e']) #변수['idx명1':'idx명2'] : idx명1부터 idx명2까지\n",
    "print(sr7[1:4]) #변수[idx번호1:idx번호2] : idx번호1부터 idx번호2전까지"
   ]
  },
  {
   "cell_type": "code",
   "execution_count": null,
   "id": "7bba4da2",
   "metadata": {},
   "outputs": [],
   "source": []
  }
 ],
 "metadata": {
  "kernelspec": {
   "display_name": "Python 3 (ipykernel)",
   "language": "python",
   "name": "python3"
  },
  "language_info": {
   "codemirror_mode": {
    "name": "ipython",
    "version": 3
   },
   "file_extension": ".py",
   "mimetype": "text/x-python",
   "name": "python",
   "nbconvert_exporter": "python",
   "pygments_lexer": "ipython3",
   "version": "3.11.5"
  }
 },
 "nbformat": 4,
 "nbformat_minor": 5
}
