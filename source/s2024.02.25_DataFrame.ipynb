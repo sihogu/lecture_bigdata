{
 "cells": [
  {
   "cell_type": "code",
   "execution_count": 1,
   "id": "1f4fc9d7",
   "metadata": {},
   "outputs": [],
   "source": [
    "import pandas as pd"
   ]
  },
  {
   "cell_type": "code",
   "execution_count": 3,
   "id": "adb00af9",
   "metadata": {},
   "outputs": [
    {
     "name": "stdout",
     "output_type": "stream",
     "text": [
      "0     hong\n",
      "1    hwang\n",
      "2      dog\n",
      "3      cat\n",
      "dtype: object\n",
      "0    홍길동\n",
      "1    황진이\n",
      "2    멍멍이\n",
      "3    야옹이\n",
      "dtype: object\n"
     ]
    }
   ],
   "source": [
    "#Series\n",
    "id_list = ['hong','hwang','dog','cat']\n",
    "name_list = ['홍길동','황진이','멍멍이','야옹이']\n",
    "age_list = [23,25,5,3]\n",
    "addr_list = ['경기','서울','제주','울릉']\n",
    "\n",
    "sr1 = pd.Series(id_list)\n",
    "sr2 = pd.Series(name_list)\n",
    "print(sr1)\n",
    "print(sr2)"
   ]
  },
  {
   "cell_type": "code",
   "execution_count": 25,
   "id": "3ec6a8a9",
   "metadata": {},
   "outputs": [
    {
     "name": "stdout",
     "output_type": "stream",
     "text": [
      "<class 'pandas.core.frame.DataFrame'>\n"
     ]
    },
    {
     "data": {
      "text/html": [
       "<div>\n",
       "<style scoped>\n",
       "    .dataframe tbody tr th:only-of-type {\n",
       "        vertical-align: middle;\n",
       "    }\n",
       "\n",
       "    .dataframe tbody tr th {\n",
       "        vertical-align: top;\n",
       "    }\n",
       "\n",
       "    .dataframe thead th {\n",
       "        text-align: right;\n",
       "    }\n",
       "</style>\n",
       "<table border=\"1\" class=\"dataframe\">\n",
       "  <thead>\n",
       "    <tr style=\"text-align: right;\">\n",
       "      <th></th>\n",
       "      <th>id</th>\n",
       "      <th>name</th>\n",
       "      <th>age</th>\n",
       "      <th>addr</th>\n",
       "    </tr>\n",
       "  </thead>\n",
       "  <tbody>\n",
       "    <tr>\n",
       "      <th>0</th>\n",
       "      <td>hong</td>\n",
       "      <td>홍길동</td>\n",
       "      <td>23</td>\n",
       "      <td>경기</td>\n",
       "    </tr>\n",
       "    <tr>\n",
       "      <th>1</th>\n",
       "      <td>hwang</td>\n",
       "      <td>황진이</td>\n",
       "      <td>25</td>\n",
       "      <td>서울</td>\n",
       "    </tr>\n",
       "    <tr>\n",
       "      <th>2</th>\n",
       "      <td>dog</td>\n",
       "      <td>멍멍이</td>\n",
       "      <td>5</td>\n",
       "      <td>제주</td>\n",
       "    </tr>\n",
       "    <tr>\n",
       "      <th>3</th>\n",
       "      <td>cat</td>\n",
       "      <td>야옹이</td>\n",
       "      <td>3</td>\n",
       "      <td>울릉</td>\n",
       "    </tr>\n",
       "  </tbody>\n",
       "</table>\n",
       "</div>"
      ],
      "text/plain": [
       "      id name  age addr\n",
       "0   hong  홍길동   23   경기\n",
       "1  hwang  황진이   25   서울\n",
       "2    dog  멍멍이    5   제주\n",
       "3    cat  야옹이    3   울릉"
      ]
     },
     "execution_count": 25,
     "metadata": {},
     "output_type": "execute_result"
    }
   ],
   "source": [
    "#DataFrame으로 행렬 만들기\n",
    "df = pd.DataFrame({'id':id_list,'name':name_list,'age':age_list,'addr':addr_list}) \n",
    "#딕셔너리를 DataFrame화하면 한 열씩 작성됨\n",
    "\n",
    "\n",
    "print(type(df)) #pandas.core.frame.DataFrame 자료형\n",
    "\n",
    "df #셀 별로 하나씩밖에 조회 가능함. print()가 아니라서 출력이 아님\n",
    "\n",
    "df['id'][2] #DataFrame 값 추출(인덱스)\n",
    "df"
   ]
  },
  {
   "cell_type": "code",
   "execution_count": 45,
   "id": "85607525",
   "metadata": {},
   "outputs": [
    {
     "name": "stdout",
     "output_type": "stream",
     "text": [
      "     원   투  쓰리\n",
      "0  홍길동  23  경기\n",
      "1  멍멍이   5  제주\n",
      "2  야옹이   3  울릉\n",
      "    하나   둘   셋\n",
      "0  홍길동  23  경기\n",
      "1  멍멍이   5  제주\n",
      "2  야옹이   3  울릉\n"
     ]
    }
   ],
   "source": [
    "#리스트 DataFrame화\n",
    "list_data = [\n",
    "    ['홍길동',23,'경기'],\n",
    "    ['멍멍이',5,'제주'],\n",
    "    ['야옹이',3,'울릉']\n",
    "]\n",
    "\n",
    "df3 = pd.DataFrame(list_data,index=[0,1,2],columns=['원','투','쓰리']) \n",
    "#index로 행 이름들을 짓고, columns로 열 이름들을 지을 수 있다.\n",
    "print(df3)\n",
    "\n",
    "df3['원'][0] #행 그리고 열에 해당하는 값을 찾는다 인덱싱\n",
    "\n",
    "df3.rename(columns={'원':'하나','투':'둘','쓰리':'셋'}) #인덱스 혹은 콜롬 개별수정 함수 rename\n",
    "df3.rename(columns={'원':'하나','투':'둘','쓰리':'셋'},inplace = True)\n",
    "id(df3)\n",
    "#inplace = True는 원본 객체를 직접 수정하여, 새롭게 메모리를 생성하지 않는다.\n",
    "\n",
    "df3.columns=['하나','둘','셋'] #인덱스 혹은 콜롬 일괄수정\n",
    "\n",
    "print(df3)"
   ]
  },
  {
   "cell_type": "code",
   "execution_count": 56,
   "id": "fe0f26a9",
   "metadata": {},
   "outputs": [
    {
     "data": {
      "text/html": [
       "<div>\n",
       "<style scoped>\n",
       "    .dataframe tbody tr th:only-of-type {\n",
       "        vertical-align: middle;\n",
       "    }\n",
       "\n",
       "    .dataframe tbody tr th {\n",
       "        vertical-align: top;\n",
       "    }\n",
       "\n",
       "    .dataframe thead th {\n",
       "        text-align: right;\n",
       "    }\n",
       "</style>\n",
       "<table border=\"1\" class=\"dataframe\">\n",
       "  <thead>\n",
       "    <tr style=\"text-align: right;\">\n",
       "      <th></th>\n",
       "      <th>하나</th>\n",
       "      <th>둘</th>\n",
       "      <th>셋</th>\n",
       "    </tr>\n",
       "  </thead>\n",
       "  <tbody>\n",
       "    <tr>\n",
       "      <th>2</th>\n",
       "      <td>야옹이</td>\n",
       "      <td>3</td>\n",
       "      <td>울릉</td>\n",
       "    </tr>\n",
       "  </tbody>\n",
       "</table>\n",
       "</div>"
      ],
      "text/plain": [
       "    하나  둘   셋\n",
       "2  야옹이  3  울릉"
      ]
     },
     "execution_count": 56,
     "metadata": {},
     "output_type": "execute_result"
    }
   ],
   "source": [
    "df7 = df3.copy() #copy함수를 이용해 데이터 프레임 복사\n",
    "\n",
    "df7.drop('하나', axis = 'columns') # drop함수를 이용하여 행이나 열 하나를 삭제 할 수 있다.\n",
    "\n",
    "df7.drop([0,1], axis = 0) #drop함수 다수의 행이나 열 삭제하기 위해 대괄호를 사용한다."
   ]
  },
  {
   "cell_type": "code",
   "execution_count": 76,
   "id": "6e2568e1",
   "metadata": {},
   "outputs": [
    {
     "data": {
      "text/html": [
       "<div>\n",
       "<style scoped>\n",
       "    .dataframe tbody tr th:only-of-type {\n",
       "        vertical-align: middle;\n",
       "    }\n",
       "\n",
       "    .dataframe tbody tr th {\n",
       "        vertical-align: top;\n",
       "    }\n",
       "\n",
       "    .dataframe thead th {\n",
       "        text-align: right;\n",
       "    }\n",
       "</style>\n",
       "<table border=\"1\" class=\"dataframe\">\n",
       "  <thead>\n",
       "    <tr style=\"text-align: right;\">\n",
       "      <th></th>\n",
       "      <th>하나</th>\n",
       "      <th>둘</th>\n",
       "      <th>셋</th>\n",
       "    </tr>\n",
       "  </thead>\n",
       "  <tbody>\n",
       "    <tr>\n",
       "      <th>0</th>\n",
       "      <td>홍길동</td>\n",
       "      <td>23</td>\n",
       "      <td>경기</td>\n",
       "    </tr>\n",
       "    <tr>\n",
       "      <th>1</th>\n",
       "      <td>멍멍이</td>\n",
       "      <td>5</td>\n",
       "      <td>제주</td>\n",
       "    </tr>\n",
       "  </tbody>\n",
       "</table>\n",
       "</div>"
      ],
      "text/plain": [
       "    하나   둘   셋\n",
       "0  홍길동  23  경기\n",
       "1  멍멍이   5  제주"
      ]
     },
     "execution_count": 76,
     "metadata": {},
     "output_type": "execute_result"
    }
   ],
   "source": [
    "#데이터프레임의 행이나 열 접근(인덱싱)\n",
    "\n",
    "df3['하나']\n",
    "df3.하나   #열접근방식\n",
    "\n",
    "df3.loc[0] #행 이름으로 인덱싱, 슬라이싱할 시 마지막을 포함\n",
    "df3.iloc[0] #행 정수형 위치 인덱스 이름으로 인덱싱, 슬라이싱할 시 마지막은 제외\n",
    "\n",
    "df3.loc[[0,1,2]] # 행 다수 인덱싱 [[]]\n",
    "df3[['하나','둘']] # 열 다수 인덱싱 [[]]\n",
    "\n",
    "df3.loc[:,'하나':'셋'] #loc 열 슬라이싱. 마지막을 포함. 앞에 : 를하나 붙인다!!\n",
    "df3.iloc[:,0:2] #iloc 열 슬라이싱. 마지막은 제외\n",
    "\n",
    "df3[0:2] #행 슬라이싱"
   ]
  },
  {
   "cell_type": "code",
   "execution_count": null,
   "id": "530b3904",
   "metadata": {},
   "outputs": [],
   "source": []
  }
 ],
 "metadata": {
  "kernelspec": {
   "display_name": "Python 3 (ipykernel)",
   "language": "python",
   "name": "python3"
  },
  "language_info": {
   "codemirror_mode": {
    "name": "ipython",
    "version": 3
   },
   "file_extension": ".py",
   "mimetype": "text/x-python",
   "name": "python",
   "nbconvert_exporter": "python",
   "pygments_lexer": "ipython3",
   "version": "3.11.5"
  }
 },
 "nbformat": 4,
 "nbformat_minor": 5
}
