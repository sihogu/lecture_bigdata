{
 "cells": [
  {
   "cell_type": "code",
   "execution_count": 1,
   "id": "d24ddb86",
   "metadata": {},
   "outputs": [],
   "source": [
    "from bs4 import BeautifulSoup as bs\n",
    "import pandas as pd\n",
    "import requests\n",
    "from time import sleep"
   ]
  },
  {
   "cell_type": "code",
   "execution_count": 2,
   "id": "7bdd731a",
   "metadata": {},
   "outputs": [],
   "source": [
    "url = 'http://192.168.50.54/index.html'\n",
    "response = requests.get(url) #Client 요청\n",
    "#정상적 응답 200, 없는 파일 시도시 응답 404\n",
    "response #response(응답)은 headers + content로 구성되어 있다.\n",
    "response.headers #HTTP 헤더 내용을 딕셔너리로 보여준다.\n",
    "response.content #HTTP 바디의 내용을 Binary(그림,압축,문서 파일) 코드로 보여준다.\n",
    "response.text #HTTP 바디의 내용을 Text 문자로 조회\n",
    "response.encoding = 'UTF-8' #HTTP 바디가 어떤 인코딩 방식으로 만들어졌는지 조회, 인코딩 방식 = 입력가능"
   ]
  },
  {
   "cell_type": "code",
   "execution_count": 3,
   "id": "959e26d2",
   "metadata": {},
   "outputs": [
    {
     "data": {
      "text/plain": [
       "[['1행_1번째', '1행_2번째', '1행_3번째'],\n",
       " ['2행_1번째', '2행_2번째', '2행_3번째'],\n",
       " ['3행_1번째', '3행_2번째', '3행_3번째'],\n",
       " ['4행_1번째', '4행_2번째', '4행_3번째']]"
      ]
     },
     "execution_count": 3,
     "metadata": {},
     "output_type": "execute_result"
    }
   ],
   "source": [
    "text = response.text\n",
    "html = bs(text, 'html.parser')\n",
    "\n",
    "\n",
    "tr_list = html.find('table').find('tbody').find_all('tr')\n",
    "tr_list\n",
    "\n",
    "\n",
    "rows = []\n",
    "for tr in tr_list:\n",
    "    td_list = tr.find_all('td')\n",
    "    row = []\n",
    "    for td in td_list:\n",
    "        data = td.text\n",
    "        row.append(data)\n",
    "    rows.append(row) \n",
    "rows"
   ]
  },
  {
   "cell_type": "code",
   "execution_count": 4,
   "id": "57633f9a",
   "metadata": {},
   "outputs": [],
   "source": [
    "url = 'http://192.168.50.54/professors.html'\n",
    "response = requests.get(url)\n",
    "text = response.text\n",
    "html = bs(text, 'html.parser')\n",
    "\n",
    "\n",
    "tr_list = html.find('table').find('tbody').find_all('tr')\n",
    "len(tr_list)\n",
    "\n",
    "\n",
    "\n",
    "for tr in tr_list:\n",
    "    pass"
   ]
  },
  {
   "cell_type": "code",
   "execution_count": 23,
   "id": "da9d08d3",
   "metadata": {},
   "outputs": [
    {
     "data": {
      "text/html": [
       "<div>\n",
       "<style scoped>\n",
       "    .dataframe tbody tr th:only-of-type {\n",
       "        vertical-align: middle;\n",
       "    }\n",
       "\n",
       "    .dataframe tbody tr th {\n",
       "        vertical-align: top;\n",
       "    }\n",
       "\n",
       "    .dataframe thead th {\n",
       "        text-align: right;\n",
       "    }\n",
       "</style>\n",
       "<table border=\"1\" class=\"dataframe\">\n",
       "  <thead>\n",
       "    <tr style=\"text-align: right;\">\n",
       "      <th></th>\n",
       "      <th>name</th>\n",
       "      <th>lecture</th>\n",
       "      <th>grade</th>\n",
       "      <th>evaluation</th>\n",
       "    </tr>\n",
       "    <tr>\n",
       "      <th>no</th>\n",
       "      <th></th>\n",
       "      <th></th>\n",
       "      <th></th>\n",
       "      <th></th>\n",
       "    </tr>\n",
       "  </thead>\n",
       "  <tbody>\n",
       "    <tr>\n",
       "      <th>1</th>\n",
       "      <td>John</td>\n",
       "      <td>C Language</td>\n",
       "      <td>2</td>\n",
       "      <td>1P</td>\n",
       "    </tr>\n",
       "    <tr>\n",
       "      <th>2</th>\n",
       "      <td>Kim</td>\n",
       "      <td>JAVA</td>\n",
       "      <td>3</td>\n",
       "      <td>2.5P</td>\n",
       "    </tr>\n",
       "    <tr>\n",
       "      <th>3</th>\n",
       "      <td>Gun</td>\n",
       "      <td>PHP / Python</td>\n",
       "      <td>1</td>\n",
       "      <td>5P</td>\n",
       "    </tr>\n",
       "    <tr>\n",
       "      <th>4</th>\n",
       "      <td>Hun</td>\n",
       "      <td>Soccer</td>\n",
       "      <td>2</td>\n",
       "      <td>5P</td>\n",
       "    </tr>\n",
       "    <tr>\n",
       "      <th>5</th>\n",
       "      <td>Coner</td>\n",
       "      <td>Smart Car</td>\n",
       "      <td>1</td>\n",
       "      <td>4P</td>\n",
       "    </tr>\n",
       "  </tbody>\n",
       "</table>\n",
       "</div>"
      ],
      "text/plain": [
       "     name       lecture grade evaluation\n",
       "no                                      \n",
       "1    John    C Language     2         1P\n",
       "2     Kim          JAVA     3       2.5P\n",
       "3     Gun  PHP / Python     1         5P\n",
       "4     Hun        Soccer     2         5P\n",
       "5   Coner     Smart Car     1         4P"
      ]
     },
     "execution_count": 23,
     "metadata": {},
     "output_type": "execute_result"
    }
   ],
   "source": [
    "#tr = tr_list[0]\n",
    "\n",
    "##find 함수 : 첫번째부터 쭉 뽑아준다.\n",
    "rows = []\n",
    "def make_row(tr):\n",
    "    no = tr.find('td', {'class' : 'number'}).text\n",
    "    name = tr.find('td', {'class' : 'professor'}).text\n",
    "    lecture = tr.find('td', {'class' : 'lecture'}).text\n",
    "    grade = tr.find('td', {'class' : 'grade hidden-xs'}).text\n",
    "    evl = tr.find('td', {'class' : 'evaluation'}).text\n",
    "    row = [no,name,lecture,grade,evl]\n",
    "    return row\n",
    "\n",
    "for tr in tr_list:\n",
    "    row = make_row(tr)\n",
    "    rows.append(row)\n",
    "    \n",
    "\n",
    "df = pd.DataFrame(rows, columns = ['no','name','lecture','grade','evaluation']) \n",
    "df.set_index('no', inplace = True)\n",
    "df.to_csv('csv/professors.csv')\n",
    "df"
   ]
  },
  {
   "cell_type": "markdown",
   "id": "51f3e8a7",
   "metadata": {},
   "source": [
    "#find('태그', {'속성' : '속성값'})    : 해당 속성의 속성값을 가진 태그 하나를 조회한다."
   ]
  },
  {
   "cell_type": "code",
   "execution_count": null,
   "id": "3685a5e7",
   "metadata": {},
   "outputs": [],
   "source": []
  }
 ],
 "metadata": {
  "kernelspec": {
   "display_name": "Python 3 (ipykernel)",
   "language": "python",
   "name": "python3"
  },
  "language_info": {
   "codemirror_mode": {
    "name": "ipython",
    "version": 3
   },
   "file_extension": ".py",
   "mimetype": "text/x-python",
   "name": "python",
   "nbconvert_exporter": "python",
   "pygments_lexer": "ipython3",
   "version": "3.11.5"
  }
 },
 "nbformat": 4,
 "nbformat_minor": 5
}
