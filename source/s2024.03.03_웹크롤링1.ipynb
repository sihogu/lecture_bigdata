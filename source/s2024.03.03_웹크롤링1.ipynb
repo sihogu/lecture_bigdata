{
 "cells": [
  {
   "cell_type": "markdown",
   "id": "f8f0ecd6",
   "metadata": {},
   "source": [
    "from bs4 import BeautifulSoup as BS\n",
    "\n",
    "# 1 파일로 불러오기\n",
    "flie = open('html파일', 'r')\n",
    "read = file.read()\n",
    "file.close\n",
    "\n",
    "\n",
    "file.readline()\n",
    "file.readlines()\n",
    "\n",
    "# 2 웹주소로 불러오기\n",
    "import requests\n",
    "response = requests.get('https://URL주소')\n",
    "text = response.text\n",
    "\n",
    "\n",
    "html = bs4.BeautifulSoup(read, 'html.parser')\n",
    "\n",
    "#find, find_all, select, select_one 메소드 등을 이용하여 특정한 <tag> 블럭 조회\n",
    "\n",
    "html.find('tag')\t\t:<tag>...</tag>으로 구성된 태그블럭중 가장 처음 발견된 1개의 블럭만 반환한다.\n",
    "\t\t\t (해당 태그 전부 반환하려면 상위 태그를 적어야한다.)\n",
    "\n",
    "gtml.find_all()\t\t:<tag>...</tag>으로 구성된 태그블럭들을 묶어서 리스트로 반환한다.\n",
    "\t\t\t [<tag>...</tag>, <tag>...</tag>,...]"
   ]
  },
  {
   "cell_type": "code",
   "execution_count": 63,
   "id": "ef43d120",
   "metadata": {},
   "outputs": [],
   "source": [
    "from bs4 import BeautifulSoup as bs\n",
    "import pandas as pd\n",
    "import requests\n",
    "from time import sleep"
   ]
  },
  {
   "cell_type": "code",
   "execution_count": 6,
   "id": "a7c255bc",
   "metadata": {},
   "outputs": [
    {
     "name": "stdout",
     "output_type": "stream",
     "text": [
      "<class 'str'>\n",
      "<html lang=\"Ko\">\n",
      "\t<head>\n",
      "\t\t<title> 안재덕의 홈페이지</title>\n",
      "\t\t<meta\n"
     ]
    }
   ],
   "source": [
    "file = open('html/index.html', encoding = 'utf-8')\n",
    "read = file.read()\n",
    "file.close()\n",
    "\n",
    "print(type(read))\n",
    "print(read[:60])"
   ]
  },
  {
   "cell_type": "code",
   "execution_count": 10,
   "id": "85524074",
   "metadata": {},
   "outputs": [
    {
     "name": "stdout",
     "output_type": "stream",
     "text": [
      "<class 'bs4.BeautifulSoup'>\n"
     ]
    }
   ],
   "source": [
    "html = bs(read,'html.parser') #html.parser라는 문서 편집기로 읽는다.\n",
    "\n",
    "print(type(html))"
   ]
  },
  {
   "cell_type": "code",
   "execution_count": 15,
   "id": "e229746a",
   "metadata": {},
   "outputs": [
    {
     "name": "stdout",
     "output_type": "stream",
     "text": [
      "<class 'bs4.element.Tag'>\n",
      "<title> 안재덕의 홈페이지</title>\n",
      "사이트제목 :  안재덕의 홈페이지\n"
     ]
    }
   ],
   "source": [
    "title = html.find('title')\n",
    "print(type(title))\n",
    "print(title)\n",
    "print('사이트제목 :',title.text) #text 함수 : 원소에서 문자열만 뽑아준다. (리스트에서 사용불가)"
   ]
  },
  {
   "cell_type": "code",
   "execution_count": 45,
   "id": "fec6cbd3",
   "metadata": {},
   "outputs": [
    {
     "data": {
      "text/plain": [
       "['내가 좋아하는 것들\\n\\t\\t\\t게임\\n여행\\n영화\\n', '내가 싫어하는 것들\\n\\t\\t\\t잔소리\\n청소\\n정리\\n']"
      ]
     },
     "execution_count": 45,
     "metadata": {},
     "output_type": "execute_result"
    }
   ],
   "source": [
    "li_list = html.find_all('li')\n",
    "datas = []\n",
    "\n",
    "for li in li_list:\n",
    "    #print(li.text)\n",
    "    datas.append(li.text)\n",
    "    \n",
    "datas"
   ]
  },
  {
   "cell_type": "code",
   "execution_count": 44,
   "id": "d7b4ca27",
   "metadata": {},
   "outputs": [
    {
     "data": {
      "text/plain": [
       "[<ul>내가 좋아하는 것들\n",
       " \t\t\t<li>게임</li>\n",
       " <li>여행</li>\n",
       " <li>영화</li>\n",
       " </ul>,\n",
       " <ul>내가 싫어하는 것들\n",
       " \t\t\t<li>잔소리</li>\n",
       " <li>청소</li>\n",
       " <li>정리</li>\n",
       " </ul>]"
      ]
     },
     "execution_count": 44,
     "metadata": {},
     "output_type": "execute_result"
    }
   ],
   "source": [
    "#연습\n",
    "html.find_all('ul')"
   ]
  },
  {
   "cell_type": "code",
   "execution_count": 42,
   "id": "c6a3580c",
   "metadata": {},
   "outputs": [
    {
     "data": {
      "text/plain": [
       "[['내가 좋아하는 것들\\n\\t\\t\\t', '게임', '\\n', '여행', '\\n', '영화', '\\n'],\n",
       " ['내가 싫어하는 것들\\n\\t\\t\\t', '잔소리', '\\n', '청소', '\\n', '정리', '\\n']]"
      ]
     },
     "execution_count": 42,
     "metadata": {},
     "output_type": "execute_result"
    }
   ],
   "source": [
    "ul_list = html.find_all('ul')\n",
    "\n",
    "datas = []\n",
    "for rows in ul_list:\n",
    "    data = []\n",
    "    #datas.append(rows)\n",
    "    for row in rows:\n",
    "        data.append(row)\n",
    "        \n",
    "    datas.append(data)\n",
    "    \n",
    "datas"
   ]
  },
  {
   "cell_type": "code",
   "execution_count": 64,
   "id": "6d02d7ae",
   "metadata": {},
   "outputs": [
    {
     "name": "stdout",
     "output_type": "stream",
     "text": [
      "[]\n",
      "['게임']\n",
      "['게임', '여행']\n",
      "['게임', '여행', '영화']\n",
      "[]\n",
      "['잔소리']\n",
      "['잔소리', '청소']\n",
      "['잔소리', '청소', '정리']\n"
     ]
    },
    {
     "data": {
      "text/plain": [
       "[['게임', '여행', '영화'], ['잔소리', '청소', '정리']]"
      ]
     },
     "execution_count": 64,
     "metadata": {},
     "output_type": "execute_result"
    }
   ],
   "source": [
    "ul_list = html.find_all('ul')\n",
    "\n",
    "rows = []\n",
    "for ul in ul_list:\n",
    "    row = []\n",
    "    li_list = ul.find_all('li')\n",
    "    for li in li_list:\n",
    "        data = li.text\n",
    "        row.append(data)\n",
    "    rows.append(row)\n",
    "    \n",
    "rows"
   ]
  },
  {
   "cell_type": "code",
   "execution_count": 65,
   "id": "fdd9496e",
   "metadata": {},
   "outputs": [],
   "source": [
    "file = open('html/table.html', encoding = 'utf-8')\n",
    "read = file.read()\n",
    "html = bs(read,'html.parser')\n",
    "\n",
    "tr_list = html.find_all('tr')"
   ]
  },
  {
   "cell_type": "markdown",
   "id": "2a510d12",
   "metadata": {},
   "source": [
    "## 원소만 뽑는방법"
   ]
  },
  {
   "cell_type": "code",
   "execution_count": 68,
   "id": "e5b1a50c",
   "metadata": {},
   "outputs": [
    {
     "data": {
      "text/plain": [
       "['hong',\n",
       " '홍길동',\n",
       " '23',\n",
       " '경기',\n",
       " 'hwang',\n",
       " '황진이',\n",
       " '25',\n",
       " '서울',\n",
       " 'dog',\n",
       " '멍멍이',\n",
       " '5',\n",
       " '제주',\n",
       " 'cat',\n",
       " '고양이',\n",
       " '3',\n",
       " '울룽']"
      ]
     },
     "execution_count": 68,
     "metadata": {},
     "output_type": "execute_result"
    }
   ],
   "source": [
    "td_list = html.find_all('td')\n",
    "\n",
    "row = []\n",
    "for td in td_list:\n",
    "    data = td.text\n",
    "    row.append(data)\n",
    "row\n",
    "#pd.Dataframe(row)"
   ]
  },
  {
   "cell_type": "markdown",
   "id": "0c669e42",
   "metadata": {},
   "source": [
    "## 행단위로 묶은 원소를 뽑는 방법"
   ]
  },
  {
   "cell_type": "code",
   "execution_count": 79,
   "id": "00d15e61",
   "metadata": {},
   "outputs": [
    {
     "data": {
      "text/html": [
       "<div>\n",
       "<style scoped>\n",
       "    .dataframe tbody tr th:only-of-type {\n",
       "        vertical-align: middle;\n",
       "    }\n",
       "\n",
       "    .dataframe tbody tr th {\n",
       "        vertical-align: top;\n",
       "    }\n",
       "\n",
       "    .dataframe thead th {\n",
       "        text-align: right;\n",
       "    }\n",
       "</style>\n",
       "<table border=\"1\" class=\"dataframe\">\n",
       "  <thead>\n",
       "    <tr style=\"text-align: right;\">\n",
       "      <th></th>\n",
       "      <th>name</th>\n",
       "      <th>age</th>\n",
       "      <th>addr</th>\n",
       "    </tr>\n",
       "    <tr>\n",
       "      <th>id</th>\n",
       "      <th></th>\n",
       "      <th></th>\n",
       "      <th></th>\n",
       "    </tr>\n",
       "  </thead>\n",
       "  <tbody>\n",
       "    <tr>\n",
       "      <th>hong</th>\n",
       "      <td>홍길동</td>\n",
       "      <td>23</td>\n",
       "      <td>경기</td>\n",
       "    </tr>\n",
       "    <tr>\n",
       "      <th>hwang</th>\n",
       "      <td>황진이</td>\n",
       "      <td>25</td>\n",
       "      <td>서울</td>\n",
       "    </tr>\n",
       "    <tr>\n",
       "      <th>dog</th>\n",
       "      <td>멍멍이</td>\n",
       "      <td>5</td>\n",
       "      <td>제주</td>\n",
       "    </tr>\n",
       "    <tr>\n",
       "      <th>cat</th>\n",
       "      <td>고양이</td>\n",
       "      <td>3</td>\n",
       "      <td>울룽</td>\n",
       "    </tr>\n",
       "  </tbody>\n",
       "</table>\n",
       "</div>"
      ],
      "text/plain": [
       "      name age addr\n",
       "id                 \n",
       "hong   홍길동  23   경기\n",
       "hwang  황진이  25   서울\n",
       "dog    멍멍이   5   제주\n",
       "cat    고양이   3   울룽"
      ]
     },
     "execution_count": 79,
     "metadata": {},
     "output_type": "execute_result"
    }
   ],
   "source": [
    "tr_list = html.find('table').find('tbody').find_all('tr')\n",
    "tr_list\n",
    "\n",
    "\n",
    "rows = []\n",
    "for tr in tr_list:\n",
    "    td_list = tr.find_all('td')\n",
    "    row = []\n",
    "    for td in td_list:\n",
    "        data = td.text\n",
    "        row.append(data)\n",
    "    rows.append(row)\n",
    "    \n",
    "df = pd.DataFrame(rows, columns = ['id','name','age','addr'])\n",
    "df. set_index('id', inplace = True)\n",
    "df"
   ]
  },
  {
   "cell_type": "code",
   "execution_count": null,
   "id": "626c130a",
   "metadata": {},
   "outputs": [],
   "source": []
  }
 ],
 "metadata": {
  "kernelspec": {
   "display_name": "Python 3 (ipykernel)",
   "language": "python",
   "name": "python3"
  },
  "language_info": {
   "codemirror_mode": {
    "name": "ipython",
    "version": 3
   },
   "file_extension": ".py",
   "mimetype": "text/x-python",
   "name": "python",
   "nbconvert_exporter": "python",
   "pygments_lexer": "ipython3",
   "version": "3.11.5"
  }
 },
 "nbformat": 4,
 "nbformat_minor": 5
}
