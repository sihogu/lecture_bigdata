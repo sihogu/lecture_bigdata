{
 "cells": [
  {
   "cell_type": "code",
   "execution_count": 1,
   "id": "0fef0c53",
   "metadata": {},
   "outputs": [],
   "source": [
    "from bs4 import BeautifulSoup as bs\n",
    "import pandas as pd\n",
    "import requests\n",
    "from time import sleep"
   ]
  },
  {
   "cell_type": "code",
   "execution_count": 12,
   "id": "f445e80f",
   "metadata": {
    "scrolled": false
   },
   "outputs": [
    {
     "data": {
      "text/plain": [
       "[['hong',\n",
       "  '홍길동',\n",
       "  '23',\n",
       "  '경기',\n",
       "  'hwang',\n",
       "  '황진이',\n",
       "  '25',\n",
       "  '서울',\n",
       "  'dog',\n",
       "  '멍멍이',\n",
       "  '5',\n",
       "  '제주',\n",
       "  'cat',\n",
       "  '고양이',\n",
       "  '3',\n",
       "  '울룽']]"
      ]
     },
     "execution_count": 12,
     "metadata": {},
     "output_type": "execute_result"
    }
   ],
   "source": [
    "file = open('html/table.html', encoding = 'utf-8')\n",
    "read = file.read()\n",
    "html = bs(read,'html.parser')\n",
    "\n",
    "tr_list = html.find_all('tr')"
   ]
  },
  {
   "cell_type": "code",
   "execution_count": 13,
   "id": "b50ef2b1",
   "metadata": {},
   "outputs": [
    {
     "data": {
      "text/plain": [
       "['hong',\n",
       " '홍길동',\n",
       " '23',\n",
       " '경기',\n",
       " 'hwang',\n",
       " '황진이',\n",
       " '25',\n",
       " '서울',\n",
       " 'dog',\n",
       " '멍멍이',\n",
       " '5',\n",
       " '제주',\n",
       " 'cat',\n",
       " '고양이',\n",
       " '3',\n",
       " '울룽']"
      ]
     },
     "execution_count": 13,
     "metadata": {},
     "output_type": "execute_result"
    }
   ],
   "source": [
    "td_list = html.find_all('td')\n",
    "\n",
    "row = []\n",
    "for td in td_list:\n",
    "    data = td.text\n",
    "    row.append(data)\n",
    "\n",
    "pd.Dataframe(row)"
   ]
  },
  {
   "cell_type": "code",
   "execution_count": 14,
   "id": "370b929c",
   "metadata": {},
   "outputs": [
    {
     "data": {
      "text/plain": [
       "[<td>hong</td>,\n",
       " <td>홍길동</td>,\n",
       " <td>23</td>,\n",
       " <td>경기</td>,\n",
       " <td>hwang</td>,\n",
       " <td>황진이</td>,\n",
       " <td>25</td>,\n",
       " <td>서울</td>,\n",
       " <td>dog</td>,\n",
       " <td>멍멍이</td>,\n",
       " <td>5</td>,\n",
       " <td>제주</td>,\n",
       " <td>cat</td>,\n",
       " <td>고양이</td>,\n",
       " <td>3</td>,\n",
       " <td>울룽</td>]"
      ]
     },
     "execution_count": 14,
     "metadata": {},
     "output_type": "execute_result"
    }
   ],
   "source": [
    "html.find_all('td')"
   ]
  },
  {
   "cell_type": "code",
   "execution_count": null,
   "id": "e04c525f",
   "metadata": {},
   "outputs": [],
   "source": []
  }
 ],
 "metadata": {
  "kernelspec": {
   "display_name": "Python 3 (ipykernel)",
   "language": "python",
   "name": "python3"
  },
  "language_info": {
   "codemirror_mode": {
    "name": "ipython",
    "version": 3
   },
   "file_extension": ".py",
   "mimetype": "text/x-python",
   "name": "python",
   "nbconvert_exporter": "python",
   "pygments_lexer": "ipython3",
   "version": "3.11.5"
  }
 },
 "nbformat": 4,
 "nbformat_minor": 5
}
