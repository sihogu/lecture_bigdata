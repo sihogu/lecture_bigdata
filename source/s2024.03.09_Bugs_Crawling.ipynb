{
 "cells": [
  {
   "cell_type": "code",
   "execution_count": 179,
   "id": "8a0add42",
   "metadata": {},
   "outputs": [],
   "source": [
    "from bs4 import BeautifulSoup as bs\n",
    "import pandas as pd\n",
    "import requests\n",
    "from time import sleep\n",
    "import os #os.mkdir('abc') / os.rmdir('abc') / os.path.isdir('abc')"
   ]
  },
  {
   "cell_type": "code",
   "execution_count": null,
   "id": "b0f9c62e",
   "metadata": {},
   "outputs": [],
   "source": [
    "#함수 정의\n",
    "def make_row(tr):\n",
    "    try:\n",
    "        rank = tr.find('strong').text\n",
    "        title = tr.find('p',{'class':'title'}).find('a').text\n",
    "    except:\n",
    "        title = tr.find('p',{'class':'title'}).find_all('span')[1].text\n",
    "        artist = tr.find('p',{'class':'artist'}).find('a').text\n",
    "        try:\n",
    "            album = tr.find('a',{'class':'album'}).text\n",
    "        except:\n",
    "            album = tr.find('span',{'class':'album'}).text\n",
    "            img_url = tr.find('img').get('src').split('?')[0]\n",
    "            row = [rank,title,artist,album]\n",
    "    else:\n",
    "        artist = tr.find('p',{'class':'artist'}).find('a').text\n",
    "        album = tr.find('a',{'class':'album'}).text\n",
    "        img_url = tr.find('img').get('src').split('?')[0]\n",
    "        row = [rank,title,artist,album,img_url]\n",
    "        \n",
    "    return {'info':row,'url':img_url}\n"
   ]
  },
  {
   "cell_type": "code",
   "execution_count": 175,
   "id": "d6277e70",
   "metadata": {},
   "outputs": [
    {
     "data": {
      "text/html": [
       "<div>\n",
       "<style scoped>\n",
       "    .dataframe tbody tr th:only-of-type {\n",
       "        vertical-align: middle;\n",
       "    }\n",
       "\n",
       "    .dataframe tbody tr th {\n",
       "        vertical-align: top;\n",
       "    }\n",
       "\n",
       "    .dataframe thead th {\n",
       "        text-align: right;\n",
       "    }\n",
       "</style>\n",
       "<table border=\"1\" class=\"dataframe\">\n",
       "  <thead>\n",
       "    <tr style=\"text-align: right;\">\n",
       "      <th></th>\n",
       "      <th>title</th>\n",
       "      <th>artist</th>\n",
       "      <th>album</th>\n",
       "    </tr>\n",
       "    <tr>\n",
       "      <th>rank</th>\n",
       "      <th></th>\n",
       "      <th></th>\n",
       "      <th></th>\n",
       "    </tr>\n",
       "  </thead>\n",
       "  <tbody>\n",
       "    <tr>\n",
       "      <th>1</th>\n",
       "      <td>밤양갱</td>\n",
       "      <td>비비(BIBI)</td>\n",
       "      <td>밤양갱</td>\n",
       "    </tr>\n",
       "    <tr>\n",
       "      <th>2</th>\n",
       "      <td>첫 만남은 계획대로 되지 않아</td>\n",
       "      <td>TWS (투어스)</td>\n",
       "      <td>TWS 1st Mini Album ‘Sparkling Blue’</td>\n",
       "    </tr>\n",
       "    <tr>\n",
       "      <th>3</th>\n",
       "      <td>나는 아픈 건 딱 질색이니까</td>\n",
       "      <td>(여자)아이들</td>\n",
       "      <td>2</td>\n",
       "    </tr>\n",
       "    <tr>\n",
       "      <th>4</th>\n",
       "      <td>EASY</td>\n",
       "      <td>LE SSERAFIM (르세라핌)</td>\n",
       "      <td>EASY</td>\n",
       "    </tr>\n",
       "    <tr>\n",
       "      <th>5</th>\n",
       "      <td>홀씨</td>\n",
       "      <td>아이유(IU)</td>\n",
       "      <td>The Winning</td>\n",
       "    </tr>\n",
       "    <tr>\n",
       "      <th>...</th>\n",
       "      <td>...</td>\n",
       "      <td>...</td>\n",
       "      <td>...</td>\n",
       "    </tr>\n",
       "    <tr>\n",
       "      <th>96</th>\n",
       "      <td>달빛에 그려지는</td>\n",
       "      <td>미연 ((여자)아이들)</td>\n",
       "      <td>연인 OST Part.4</td>\n",
       "    </tr>\n",
       "    <tr>\n",
       "      <th>97</th>\n",
       "      <td>Chill Kill</td>\n",
       "      <td>Red Velvet (레드벨벳)</td>\n",
       "      <td>Chill Kill - The 3rd Album</td>\n",
       "    </tr>\n",
       "    <tr>\n",
       "      <th>98</th>\n",
       "      <td>운이 좋았지</td>\n",
       "      <td>권진아</td>\n",
       "      <td>나의 모양</td>\n",
       "    </tr>\n",
       "    <tr>\n",
       "      <th>99</th>\n",
       "      <td>기억해줘요 내 모든 날과 그때를</td>\n",
       "      <td>화곡동 청개구리</td>\n",
       "      <td>기억해줘요 내 모든 날과 그때를</td>\n",
       "    </tr>\n",
       "    <tr>\n",
       "      <th>100</th>\n",
       "      <td>넌 쉽게 말했지만</td>\n",
       "      <td>소수빈</td>\n",
       "      <td>싱어게인3 - 무명가수전 Episode.8</td>\n",
       "    </tr>\n",
       "  </tbody>\n",
       "</table>\n",
       "<p>100 rows × 3 columns</p>\n",
       "</div>"
      ],
      "text/plain": [
       "                  title              artist  \\\n",
       "rank                                          \n",
       "1                   밤양갱            비비(BIBI)   \n",
       "2      첫 만남은 계획대로 되지 않아           TWS (투어스)   \n",
       "3       나는 아픈 건 딱 질색이니까             (여자)아이들   \n",
       "4                  EASY  LE SSERAFIM (르세라핌)   \n",
       "5                    홀씨             아이유(IU)   \n",
       "...                 ...                 ...   \n",
       "96             달빛에 그려지는        미연 ((여자)아이들)   \n",
       "97           Chill Kill   Red Velvet (레드벨벳)   \n",
       "98               운이 좋았지                 권진아   \n",
       "99    기억해줘요 내 모든 날과 그때를            화곡동 청개구리   \n",
       "100           넌 쉽게 말했지만                 소수빈   \n",
       "\n",
       "                                    album  \n",
       "rank                                       \n",
       "1                                     밤양갱  \n",
       "2     TWS 1st Mini Album ‘Sparkling Blue’  \n",
       "3                                       2  \n",
       "4                                    EASY  \n",
       "5                             The Winning  \n",
       "...                                   ...  \n",
       "96                          연인 OST Part.4  \n",
       "97             Chill Kill - The 3rd Album  \n",
       "98                                  나의 모양  \n",
       "99                      기억해줘요 내 모든 날과 그때를  \n",
       "100               싱어게인3 - 무명가수전 Episode.8  \n",
       "\n",
       "[100 rows x 3 columns]"
      ]
     },
     "execution_count": 175,
     "metadata": {},
     "output_type": "execute_result"
    }
   ],
   "source": [
    "\n",
    "url = 'https://music.bugs.co.kr/chart'\n",
    "#response는 headers와 content(데이터, 텍스트)로 구성 되어있다.\n",
    "response = requests.get(url)\n",
    "#response.headers 안에 headers가 dict로 담겨있다.\n",
    "#response.content 안에 content가 DATA(Binary)로 담겨있다. image, zip, hwp와 같은 형식\n",
    "#response.text 안에 contetn가 text로 담겨있다.\n",
    "\n",
    "#response.headers['Content-Type'] 안에 데이터의 종류가 담겨있다.\n",
    "\n",
    "text = response.text\n",
    "text[:259]\n",
    "\n",
    "html = bs(text, 'html.parser')\n",
    "html\n",
    "\n",
    "tr_list = html.find('table',{'class':'list trackList byChart'}).find('tbody').find_all('tr')\n",
    "tr_list\n",
    "\n",
    "\n",
    "rows = []\n",
    "for tr in tr_list:\n",
    "    row = make_row(tr)\n",
    "    rows.append(row)\n",
    "    \n",
    "df = pd.DataFrame(rows, columns = ['rank','title','artist','album']) \n",
    "df.set_index('rank', inplace = True)\n",
    "df.to_csv('csv/bugs1.csv',mode=\"w\",encoding='euc-kr')\n",
    "df"
   ]
  },
  {
   "cell_type": "code",
   "execution_count": 100,
   "id": "98d9d298",
   "metadata": {},
   "outputs": [
    {
     "data": {
      "text/plain": [
       "'밤양갱'"
      ]
     },
     "execution_count": 100,
     "metadata": {},
     "output_type": "execute_result"
    }
   ],
   "source": [
    "tr = tr_list[0] #tr_list가 find_all함수로 끝났기 때문에 인덱스[0]을 넣어야한다.\n",
    "title = tr.find('p',{'class':'title'}).find('a')\n",
    "rank = tr.find('strong').text\n",
    "artist = tr.find('p',{'class':'artist'}).find('a').text\n",
    "#album = tr.find('p',{'class':'left'}).find('a').text\n",
    "\n",
    "album = tr.find('a',{'class':'album'}).text\n",
    "album"
   ]
  },
  {
   "cell_type": "code",
   "execution_count": null,
   "id": "7b4f7222",
   "metadata": {},
   "outputs": [],
   "source": [
    "year = 2018\n",
    "month = 1\n",
    "#day = 1\n",
    "\n",
    "for day in range(11,13):\n",
    "    date = f'{year}{month:0>2}{day:0>2}'\n",
    "    path = f'bugs_{date}'\n",
    "    if not os.path.isdir(path):\n",
    "        os.mkdir(path)\n",
    "    \n",
    "    url = f'https://music.bugs.co.kr/chart/track/day/total?chartdate={date}'\n",
    "   \n",
    "    response = requests.get(url)\n",
    "    text = response.text\n",
    "    html = bs(text, 'html.parser')\n",
    "    tr_list = html.find('table',{'class':'list trackList byChart'}).find('tbody').find_all('tr')\n",
    "\n",
    "    rows = []\n",
    "    for tr in tr_list:\n",
    "        result = bugs_row(tr) #에러\n",
    "        row = result['info']\n",
    "        img_url = result['url']\n",
    "        \n",
    "        response2 = requests.get(img_url)\n",
    "        content = response2.content\n",
    "        filename = f'{path}/image_{date}_{row[0]}.jpeg'\n",
    "        file = open(filename,'wb')\n",
    "        file.write(content)\n",
    "        file.close()\n",
    "\n",
    "        rows.append(row)\n",
    "        \n",
    "    df = pd.DataFrame(rows, columns = ['rank','title','artist','album']) \n",
    "    df.set_index('rank', inplace = True)\n",
    "    filename = f'{path}/bugs_chart_{date}.csv'\n",
    "    df.to_csv(filename, encoding='utf-8-sig') #왜 오류?\n",
    "    sleep(5)   #반복 처리시 sleep처리를 안하면 디도스로 취급해버린다!!중요"
   ]
  },
  {
   "cell_type": "markdown",
   "id": "3ce1ab51",
   "metadata": {},
   "source": [
    "## 날짜 비어있는 칸에 0넣기"
   ]
  },
  {
   "cell_type": "code",
   "execution_count": 133,
   "id": "9c5b311c",
   "metadata": {},
   "outputs": [
    {
     "data": {
      "text/plain": [
       "'20240101'"
      ]
     },
     "execution_count": 133,
     "metadata": {},
     "output_type": "execute_result"
    }
   ],
   "source": [
    "year = 2024\n",
    "month = 1\n",
    "day = 1\n",
    "\n",
    "\n",
    "\n",
    "\"\"\"if month < 10:\n",
    "    month = f'0{month}'\n",
    "if day < 10:\n",
    "    day = f'0{day}'\n",
    "\"\"\"\n",
    "date = f'{year}{month}{day}'\n",
    "date = f'{year}{month:0>2}{day:0>2}' #f열 포매팅 기법 속성값 ':0>2'는 빈공간이 나올경우 2칸까지 공간 만들고 빈칸을 0으로 채운다.\n",
    "date"
   ]
  },
  {
   "cell_type": "code",
   "execution_count": 137,
   "id": "24ea914d",
   "metadata": {
    "scrolled": true
   },
   "outputs": [
    {
     "name": "stdout",
     "output_type": "stream",
     "text": [
      "<p adult_yn=\"N\" class=\"title\">\n",
      "<a adultcheckval=\"1\" aria-label=\"새창\" href=\"javascript:;\" onclick=\"bugs.wiselog.area('list_tr_09_chart');bugs.music.listen('4898930',true);\r\n",
      "\" title=\"There's Nothing Holdin' Me Back\">There's Nothing Holdin' Me Back</a>\n",
      "</p>\n",
      "<span>My My My!</span>\n"
     ]
    },
    {
     "data": {
      "text/plain": [
       "'rows = []\\nfor tr in tr_list:\\n    row = make_row(tr)\\n    rows.append(row)\\n\\ndf = pd.DataFrame(rows, columns = [\\'rank\\',\\'title\\',\\'artist\\',\\'album\\']) \\ndf.set_index(\\'rank\\', inplace = True)\\ndf.to_csv(f\\'csv/bugs{date}.csv\\',mode=\"w\",encoding=\\'euc-kr\\')\\nsleep(3)   #반복 처리시 sleep처리를 안하면 디도스로 취급해버린다!!중요'"
      ]
     },
     "execution_count": 137,
     "metadata": {},
     "output_type": "execute_result"
    }
   ],
   "source": [
    "date = '20180111'\n",
    "url = f'https://music.bugs.co.kr/chart/track/day/total?chartdate={date}'\n",
    "response = requests.get(url)\n",
    "text = response.text\n",
    "#text[:259]\n",
    "html = bs(text, 'html.parser')\n",
    "\n",
    "tr_list = html.find('table',{'class':'list trackList byChart'}).find('tbody').find_all('tr')\n",
    "rank37 = tr_list[36]\n",
    "rank38 = tr_list[37]\n",
    "\n",
    "\n",
    "print(rank37.find('p',{'class':'title'}))\n",
    "print(rank38.find('p',{'class':'title'}).find_all('span')[1])\n",
    "rank38.find('p',{'class':'title'}).find_all('span','') #속성이 없는 'span'태그를 반환해준다."
   ]
  },
  {
   "cell_type": "code",
   "execution_count": 173,
   "id": "816059aa",
   "metadata": {},
   "outputs": [
    {
     "data": {
      "text/plain": [
       "\"\\ni = 0\\ni = i+1\\nimg = dload.save(src, f'img{i}.jpg')\""
      ]
     },
     "execution_count": 173,
     "metadata": {},
     "output_type": "execute_result"
    }
   ],
   "source": [
    "rank37 = tr_list[36]\n",
    "\n",
    "url = rank37.find('img').get('src').split('?')[0] #이미지 소스의 url주소 뽑기\n",
    "response = requests.get(url)\n",
    "content = response.content\n",
    "\n",
    "#이미지 저장\n",
    "file = open('csv/그림.jpg','wb')\n",
    "file.write(content)\n",
    "file.close()"
   ]
  },
  {
   "cell_type": "code",
   "execution_count": null,
   "id": "bada7152",
   "metadata": {},
   "outputs": [],
   "source": [
    "def bugs_row(tr):\n",
    "    rank = tr.find('strong').text\n",
    "    try:\n",
    "        title = tr.find('p', {'class':'title'}).find('a').text\n",
    "    except:\n",
    "        title = tr.find('p', {'class':'title'}).find('span', '').text\n",
    "    artist = tr.find('p', {'class':'artist'}).find('a').text\n",
    "    try:\n",
    "        album = tr.find('a', {'class':'album'}).text\n",
    "    except:\n",
    "        album = tr.find('span', {'class':'album'}).text\n",
    "    img_url = tr.find('img').get('src').split('?')[0]\n",
    "    row  = [rank, title, artist, album]\n",
    "    return {'info':row, 'url':img_url}"
   ]
  },
  {
   "cell_type": "code",
   "execution_count": null,
   "id": "5a45a549",
   "metadata": {},
   "outputs": [],
   "source": []
  }
 ],
 "metadata": {
  "kernelspec": {
   "display_name": "Python 3 (ipykernel)",
   "language": "python",
   "name": "python3"
  },
  "language_info": {
   "codemirror_mode": {
    "name": "ipython",
    "version": 3
   },
   "file_extension": ".py",
   "mimetype": "text/x-python",
   "name": "python",
   "nbconvert_exporter": "python",
   "pygments_lexer": "ipython3",
   "version": "3.11.5"
  }
 },
 "nbformat": 4,
 "nbformat_minor": 5
}
