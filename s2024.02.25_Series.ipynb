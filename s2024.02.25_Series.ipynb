{
 "cells": [
  {
   "cell_type": "code",
   "execution_count": 7,
   "id": "3ea0fda0",
   "metadata": {},
   "outputs": [],
   "source": [
    "student1 = ['hong', '홍길동', 'A', '구로']\n",
    "student2 = ['hwang', 'B', '역삼', '황진이']\n",
    "\n",
    "student3 = {'id':'hong', 'name':'홍길동', 'class':'A', 'address':'구로'}\n",
    "student4 = {'id':'hwang', 'class':'B', 'address':'역삼', 'name':'황진이'}"
   ]
  },
  {
   "cell_type": "code",
   "execution_count": 11,
   "id": "446a8e49",
   "metadata": {},
   "outputs": [
    {
     "name": "stdout",
     "output_type": "stream",
     "text": [
      "홍길동\n",
      "황진이\n"
     ]
    }
   ],
   "source": [
    "# student1, student2의 학생 정보 조회\n",
    "# 목록은 나열된 순서에 매우 큰 영향을 받은 자료형: 순차적 접근 자료\n",
    "print(student1[1])\n",
    "print(student2[3])"
   ]
  },
  {
   "cell_type": "code",
   "execution_count": 13,
   "id": "9075232f",
   "metadata": {},
   "outputs": [
    {
     "name": "stdout",
     "output_type": "stream",
     "text": [
      "홍길동\n",
      "황진이\n"
     ]
    }
   ],
   "source": [
    "# student3, student4의 학생 정보 조회\n",
    "# 사전은 나열된 순서와 상관없이 임의의 접근이 가능한 자료형: 비순처적 접근 자료\n",
    "print(student3['name'])\n",
    "print(student4['name'])"
   ]
  },
  {
   "cell_type": "code",
   "execution_count": 19,
   "id": "4a7a109d",
   "metadata": {},
   "outputs": [
    {
     "name": "stdout",
     "output_type": "stream",
     "text": [
      "0    hwang\n",
      "1        B\n",
      "2       역삼\n",
      "3      황진이\n",
      "dtype: object\n",
      "\n",
      "이름: B\n",
      "주소: 황진이\n"
     ]
    }
   ],
   "source": [
    "# pandas 모듈 불러오기\n",
    "import pandas as pd\n",
    "\n",
    "sr1 = pd.Series(student2)\n",
    "print(sr1)\n",
    "print()\n",
    "print('이름:', sr1[1])\n",
    "print('주소:', sr1[3])"
   ]
  },
  {
   "cell_type": "code",
   "execution_count": 23,
   "id": "9241ec57",
   "metadata": {
    "scrolled": true
   },
   "outputs": [
    {
     "name": "stdout",
     "output_type": "stream",
     "text": [
      "id         hwang\n",
      "class          B\n",
      "address       역삼\n",
      "name         황진이\n",
      "dtype: object\n",
      "\n",
      "이름: 황진이\n",
      "주소: 역삼\n"
     ]
    }
   ],
   "source": [
    "sr2 = pd.Series(student4)\n",
    "print(sr2)\n",
    "print()\n",
    "print('이름:', sr2['name'])\n",
    "print('주소:', sr2['address'])"
   ]
  },
  {
   "cell_type": "code",
   "execution_count": 26,
   "id": "e3468f7b",
   "metadata": {},
   "outputs": [
    {
     "name": "stdout",
     "output_type": "stream",
     "text": [
      "a    1\n",
      "b    2\n",
      "c    3\n",
      "dtype: int64\n",
      "<class 'pandas.core.series.Series'>\n"
     ]
    }
   ],
   "source": [
    "dict_data = {'a':1, 'b':2, 'c':3}\n",
    "\n",
    "# 사전 자료형을 시리즈 자료형으로 변경하면, Key는 index명이 되고, values는 value가 된다.\n",
    "sr3 = pd.Series(dict_data)\n",
    "print(sr3)\n",
    "print(type(sr3))"
   ]
  },
  {
   "cell_type": "code",
   "execution_count": 31,
   "id": "5bb96ddd",
   "metadata": {},
   "outputs": [
    {
     "name": "stdout",
     "output_type": "stream",
     "text": [
      "id         hong\n",
      "name        홍길동\n",
      "class         A\n",
      "address      구로\n",
      "dtype: object\n",
      "\n",
      "홍길동\n",
      "홍길동\n",
      "구로\n",
      "Index(['id', 'name', 'class', 'address'], dtype='object')\n",
      "['hong' '홍길동' 'A' '구로']\n"
     ]
    }
   ],
   "source": [
    "sr4 = pd.Series(student3)\n",
    "print(sr4)\n",
    "print()\n",
    "\n",
    "print(sr4['name'])\n",
    "print(sr4[1])\n",
    "print(sr4[-1])\n",
    "\n",
    "# index, value만 별도로 조회, 각각 index와 values의 목록으로 반환\n",
    "print(sr4.index)\n",
    "print(sr4.values)"
   ]
  },
  {
   "cell_type": "code",
   "execution_count": 36,
   "id": "fdcdf3eb",
   "metadata": {},
   "outputs": [
    {
     "name": "stdout",
     "output_type": "stream",
     "text": [
      "date     2019-01-02\n",
      "pi             3.14\n",
      "alpha           ABC\n",
      "int             100\n",
      "bool           True\n",
      "dtype: object\n",
      "ABC\n",
      "ABC\n"
     ]
    }
   ],
   "source": [
    "# 목록 자료형을 시리즈 자료형으로 변경하면, 목록의 index번호가 시리즈 자료형의\n",
    "# index명 자리에 대체된다.\n",
    "\n",
    "# index               0      1     2     3     4\n",
    "list_data = ['2019-01-02', 3.14, 'ABC', 100, True]\n",
    "\n",
    "sr6 = pd.Series(list_data, index = ['date', 'pi', 'alpha', 'int', 'bool'])\n",
    "print(sr6)\n",
    "print(sr6['alpha'])\n",
    "print(sr6[2])"
   ]
  },
  {
   "cell_type": "code",
   "execution_count": 39,
   "id": "602651a2",
   "metadata": {},
   "outputs": [
    {
     "name": "stdout",
     "output_type": "stream",
     "text": [
      "a    10\n",
      "b    20\n",
      "c    30\n",
      "d    40\n",
      "e    50\n",
      "f    60\n",
      "dtype: int64\n",
      "30\n",
      "30\n"
     ]
    }
   ],
   "source": [
    "sr7 = pd.Series({'a':10, 'b':20, 'c':30, 'd':40, 'e':50, 'f':60})\n",
    "print(sr7)\n",
    "print(sr7['c'])\n",
    "print(sr7[2])"
   ]
  },
  {
   "cell_type": "code",
   "execution_count": 42,
   "id": "d98826d5",
   "metadata": {},
   "outputs": [
    {
     "name": "stdout",
     "output_type": "stream",
     "text": [
      "b    20\n",
      "c    30\n",
      "d    40\n",
      "e    50\n",
      "dtype: int64\n",
      "\n",
      "b    20\n",
      "c    30\n",
      "d    40\n",
      "dtype: int64\n"
     ]
    }
   ],
   "source": [
    "# 변수['idx명1':'idx명2']  : idx명1부터 idx명2까지 (이상, 이하)\n",
    "# 변수[idx번호1:idx번호2]  : idx번호1부터 idx번호2전까지 (이상, 미만)\n",
    "print( sr7['b':'e'] )\n",
    "print()\n",
    "print( sr7[1:4] )"
   ]
  },
  {
   "cell_type": "code",
   "execution_count": 44,
   "id": "3ff15f6c",
   "metadata": {},
   "outputs": [
    {
     "data": {
      "text/plain": [
       "a    10\n",
       "d    40\n",
       "c    30\n",
       "b    20\n",
       "dtype: int64"
      ]
     },
     "execution_count": 44,
     "metadata": {},
     "output_type": "execute_result"
    }
   ],
   "source": [
    "# 변수[['idx명1', 'idx명2', 'idx명3', ...]] : 나열된 순서와 상관없이 불규칙적인\n",
    "#                                             여러개의 값들을 조회\n",
    "print(sr7[['a', 'd', 'c', 'b']])"
   ]
  }
 ],
 "metadata": {
  "kernelspec": {
   "display_name": "Python 3 (ipykernel)",
   "language": "python",
   "name": "python3"
  },
  "language_info": {
   "codemirror_mode": {
    "name": "ipython",
    "version": 3
   },
   "file_extension": ".py",
   "mimetype": "text/x-python",
   "name": "python",
   "nbconvert_exporter": "python",
   "pygments_lexer": "ipython3",
   "version": "3.11.5"
  }
 },
 "nbformat": 4,
 "nbformat_minor": 5
}
