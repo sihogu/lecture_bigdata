{
 "cells": [
  {
   "cell_type": "code",
   "execution_count": 1,
   "id": "d0fa8ef9",
   "metadata": {},
   "outputs": [],
   "source": [
    "# 0. bs4 모듈의 BeautifulSoup 클래스 사용\n",
    "import pandas as pd\n",
    "import requests\n",
    "from bs4 import BeautifulSoup\n",
    "from time import sleep"
   ]
  },
  {
   "cell_type": "code",
   "execution_count": 2,
   "id": "36def15d",
   "metadata": {},
   "outputs": [
    {
     "name": "stdout",
     "output_type": "stream",
     "text": [
      "<Response [200]>\n",
      "{'Content-Type': 'text/html', 'Last-Modified': 'Sun, 03 Mar 2024 05:28:33 GMT', 'Accept-Ranges': 'bytes', 'ETag': '\"85844da22b6dda1:0\"', 'Server': 'Microsoft-IIS/10.0', 'Date': 'Sat, 09 Mar 2024 00:59:11 GMT', 'Content-Length': '943'}\n",
      "UTF-8\n",
      "<html>\r\n",
      "\t<head>\r\n",
      "\t\t<title>테이블의 구조</title>\r\n",
      "\t\t<meta charset=\"UTF-8\" />\n"
     ]
    }
   ],
   "source": [
    "# 1. 웹(html)문서 불러오기\n",
    "# Client 요청 -> requests.get('http://URL주소')\n",
    "#                response = headers + content  <- Server 응답\n",
    "# response(응답)은 headers + content 으로 구성되어 있다.\n",
    "# response.headers 는 HTTP 헤더 내용을 사전(dict)으로 조회\n",
    "# response.content 는 HTTP 바디의 내용을 Binary(그림,압축,문서) 코드로 조회\n",
    "# response.text    는 HTTP 바디의 내용을 Text(텍스트, HTML문서) 문자로 조회\n",
    "# response.encoding은 HTTP 바디가 어떤 인코딩 방식으로 만들어졌는지 조회\n",
    "url = 'http://192.168.50.54/index.html'\n",
    "response = requests.get(url)\n",
    "print( response )\n",
    "print( response.headers )\n",
    "response.encoding = 'UTF-8'\n",
    "print( response.encoding )\n",
    "print( response.text[:69] )"
   ]
  },
  {
   "cell_type": "code",
   "execution_count": 3,
   "id": "a0980159",
   "metadata": {},
   "outputs": [
    {
     "data": {
      "text/plain": [
       "[['1행_1번째', '1행_2번째', '1행_3번째'],\n",
       " ['2행_1번째', '2행_2번째', '2행_3번째'],\n",
       " ['3행_1번째', '3행_2번째', '3행_3번째'],\n",
       " ['4행_1번째', '4행_2번째', '4행_3번째']]"
      ]
     },
     "execution_count": 3,
     "metadata": {},
     "output_type": "execute_result"
    }
   ],
   "source": [
    "# 2. 웹문서내용(str,문자열)을 분석 가능한 객체(bs4.BeautifulSoup) 생성\n",
    "# 3. find, find_all 메소드등을 이용하여 특정한 <tag> 블럭 조회\n",
    "text = response.text \n",
    "html = BeautifulSoup(text, 'html.parser')\n",
    "tr_list = html.find('tbody').find_all('tr')\n",
    "rows = []\n",
    "for tr in tr_list:\n",
    "    td_list = tr.find_all('td')\n",
    "    row = []\n",
    "    for td in td_list:\n",
    "        data = td.text\n",
    "        row.append(data)\n",
    "    rows.append(row)\n",
    "rows"
   ]
  },
  {
   "cell_type": "code",
   "execution_count": 4,
   "id": "d89724b2",
   "metadata": {
    "scrolled": true
   },
   "outputs": [
    {
     "name": "stdout",
     "output_type": "stream",
     "text": [
      "{'Content-Type': 'text/html', 'Last-Modified': 'Mon, 07 Mar 2022 23:16:00 GMT', 'Accept-Ranges': 'bytes', 'ETag': '\"0b8af4e7932d81:0\"', 'Server': 'Microsoft-IIS/10.0', 'Date': 'Sat, 09 Mar 2024 00:59:11 GMT', 'Content-Length': '9161'}\n",
      "<html>\r\n",
      "\t<head>\r\n",
      "\t\t<title>This is jsoup test page</title>\n"
     ]
    }
   ],
   "source": [
    "url = 'http://192.168.50.54/professors.html'\n",
    "response = requests.get(url)\n",
    "# response = headers + content(text, jpeg)\n",
    "print( response.headers )\n",
    "text = response.text\n",
    "print( text[:57] )"
   ]
  },
  {
   "cell_type": "code",
   "execution_count": 19,
   "id": "ba2d0be8",
   "metadata": {
    "scrolled": false
   },
   "outputs": [
    {
     "data": {
      "text/html": [
       "<div>\n",
       "<style scoped>\n",
       "    .dataframe tbody tr th:only-of-type {\n",
       "        vertical-align: middle;\n",
       "    }\n",
       "\n",
       "    .dataframe tbody tr th {\n",
       "        vertical-align: top;\n",
       "    }\n",
       "\n",
       "    .dataframe thead th {\n",
       "        text-align: right;\n",
       "    }\n",
       "</style>\n",
       "<table border=\"1\" class=\"dataframe\">\n",
       "  <thead>\n",
       "    <tr style=\"text-align: right;\">\n",
       "      <th></th>\n",
       "      <th>name</th>\n",
       "      <th>lecture</th>\n",
       "      <th>grade</th>\n",
       "      <th>evaluation</th>\n",
       "    </tr>\n",
       "    <tr>\n",
       "      <th>no</th>\n",
       "      <th></th>\n",
       "      <th></th>\n",
       "      <th></th>\n",
       "      <th></th>\n",
       "    </tr>\n",
       "  </thead>\n",
       "  <tbody>\n",
       "    <tr>\n",
       "      <th>1</th>\n",
       "      <td>John</td>\n",
       "      <td>C Language</td>\n",
       "      <td>2</td>\n",
       "      <td>1P</td>\n",
       "    </tr>\n",
       "    <tr>\n",
       "      <th>2</th>\n",
       "      <td>Kim</td>\n",
       "      <td>JAVA</td>\n",
       "      <td>3</td>\n",
       "      <td>2.5P</td>\n",
       "    </tr>\n",
       "    <tr>\n",
       "      <th>3</th>\n",
       "      <td>Gun</td>\n",
       "      <td>PHP / Python</td>\n",
       "      <td>1</td>\n",
       "      <td>5P</td>\n",
       "    </tr>\n",
       "    <tr>\n",
       "      <th>4</th>\n",
       "      <td>Hun</td>\n",
       "      <td>Soccer</td>\n",
       "      <td>2</td>\n",
       "      <td>5P</td>\n",
       "    </tr>\n",
       "    <tr>\n",
       "      <th>5</th>\n",
       "      <td>Coner</td>\n",
       "      <td>Smart Car</td>\n",
       "      <td>1</td>\n",
       "      <td>4P</td>\n",
       "    </tr>\n",
       "  </tbody>\n",
       "</table>\n",
       "</div>"
      ],
      "text/plain": [
       "     name       lecture grade evaluation\n",
       "no                                      \n",
       "1    John    C Language     2         1P\n",
       "2     Kim          JAVA     3       2.5P\n",
       "3     Gun  PHP / Python     1         5P\n",
       "4     Hun        Soccer     2         5P\n",
       "5   Coner     Smart Car     1         4P"
      ]
     },
     "execution_count": 19,
     "metadata": {},
     "output_type": "execute_result"
    }
   ],
   "source": [
    "def make_row(tr):\n",
    "    no = tr.find('td', {'class':'number'}).text\n",
    "    name = tr.find('td', {'class':'professor'}).text\n",
    "    lecture = tr.find('td', {'class':'lecture'}).text\n",
    "    grade = tr.find('td', {'class':'grade'}).text\n",
    "    evl = tr.find('td', {'class':'evaluation'}).text\n",
    "    row = [no, name, lecture, grade, evl]\n",
    "    return row\n",
    "\n",
    "html = BeautifulSoup(text, 'html.parser')\n",
    "tr_list = html.find('tbody').find_all('tr')\n",
    "rows = []\n",
    "for tr in tr_list:\n",
    "    row = make_row(tr)\n",
    "    rows.append(row)\n",
    "df = pd.DataFrame(rows, columns = ['no', 'name', 'lecture', 'grade', 'evaluation'])\n",
    "df.set_index('no', inplace = True)\n",
    "df.to_csv('csv/professors.csv')\n",
    "df"
   ]
  },
  {
   "cell_type": "code",
   "execution_count": 11,
   "id": "b82a6df9",
   "metadata": {
    "scrolled": true
   },
   "outputs": [
    {
     "data": {
      "text/plain": [
       "'1P'"
      ]
     },
     "execution_count": 11,
     "metadata": {},
     "output_type": "execute_result"
    }
   ],
   "source": [
    "tr = tr_list[0]\n",
    "grade = tr.find('td', {'class':'grade'}).text\n",
    "evl = tr.find('td', {'class':'evaluation'}).text"
   ]
  },
  {
   "cell_type": "code",
   "execution_count": null,
   "id": "a8038d0a",
   "metadata": {},
   "outputs": [],
   "source": []
  },
  {
   "cell_type": "code",
   "execution_count": null,
   "id": "972d006f",
   "metadata": {},
   "outputs": [],
   "source": []
  }
 ],
 "metadata": {
  "kernelspec": {
   "display_name": "Python 3 (ipykernel)",
   "language": "python",
   "name": "python3"
  },
  "language_info": {
   "codemirror_mode": {
    "name": "ipython",
    "version": 3
   },
   "file_extension": ".py",
   "mimetype": "text/x-python",
   "name": "python",
   "nbconvert_exporter": "python",
   "pygments_lexer": "ipython3",
   "version": "3.11.5"
  }
 },
 "nbformat": 4,
 "nbformat_minor": 5
}
