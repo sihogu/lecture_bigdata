{
 "cells": [
  {
   "cell_type": "code",
   "execution_count": 1,
   "id": "12604987",
   "metadata": {},
   "outputs": [],
   "source": [
    "# 0. bs4 모듈의 BeautifulSoup 클래스 사용\n",
    "import pandas as pd\n",
    "import requests\n",
    "import os\n",
    "from bs4 import BeautifulSoup\n",
    "from time import sleep"
   ]
  },
  {
   "cell_type": "code",
   "execution_count": 2,
   "id": "373e35c8",
   "metadata": {},
   "outputs": [],
   "source": [
    "# 자주 사용하는 함수 정의\n"
   ]
  },
  {
   "cell_type": "code",
   "execution_count": 9,
   "id": "035f71ef",
   "metadata": {},
   "outputs": [
    {
     "data": {
      "text/plain": [
       "{'Content-Encoding': 'gzip', 'Date': 'Sat, 09 Mar 2024 05:26:29 GMT', 'Content-Length': '33427', 'Accept-Ranges': 'bytes', 'ETag': '\"0:8293\"', 'Content-Type': 'text/html;charset=utf-8', 'Cache-Control': 'no-cache', 'Connection': 'Keep-Alive'}"
      ]
     },
     "execution_count": 9,
     "metadata": {},
     "output_type": "execute_result"
    }
   ],
   "source": [
    "url = 'https://www.melon.com/chart/index.htm'\n",
    "response = requests.get(url, headers = {'User-Agent':'Mozilla/5.0 (Windows NT 10.0 x64)'})\n",
    "response.headers"
   ]
  },
  {
   "cell_type": "code",
   "execution_count": 34,
   "id": "0fa28116",
   "metadata": {
    "scrolled": false
   },
   "outputs": [
    {
     "data": {
      "text/html": [
       "<div>\n",
       "<style scoped>\n",
       "    .dataframe tbody tr th:only-of-type {\n",
       "        vertical-align: middle;\n",
       "    }\n",
       "\n",
       "    .dataframe tbody tr th {\n",
       "        vertical-align: top;\n",
       "    }\n",
       "\n",
       "    .dataframe thead th {\n",
       "        text-align: right;\n",
       "    }\n",
       "</style>\n",
       "<table border=\"1\" class=\"dataframe\">\n",
       "  <thead>\n",
       "    <tr style=\"text-align: right;\">\n",
       "      <th></th>\n",
       "      <th>title</th>\n",
       "      <th>artist</th>\n",
       "      <th>album</th>\n",
       "    </tr>\n",
       "    <tr>\n",
       "      <th>rank</th>\n",
       "      <th></th>\n",
       "      <th></th>\n",
       "      <th></th>\n",
       "    </tr>\n",
       "  </thead>\n",
       "  <tbody>\n",
       "    <tr>\n",
       "      <th>1</th>\n",
       "      <td>밤양갱</td>\n",
       "      <td>비비 (BIBI)</td>\n",
       "      <td>밤양갱</td>\n",
       "    </tr>\n",
       "    <tr>\n",
       "      <th>2</th>\n",
       "      <td>첫 만남은 계획대로 되지 않아</td>\n",
       "      <td>TWS (투어스)</td>\n",
       "      <td>TWS 1st Mini Album ‘Sparkling Blue’</td>\n",
       "    </tr>\n",
       "    <tr>\n",
       "      <th>3</th>\n",
       "      <td>Love wins all</td>\n",
       "      <td>아이유</td>\n",
       "      <td>The Winning</td>\n",
       "    </tr>\n",
       "    <tr>\n",
       "      <th>4</th>\n",
       "      <td>EASY</td>\n",
       "      <td>LE SSERAFIM (르세라핌)</td>\n",
       "      <td>EASY</td>\n",
       "    </tr>\n",
       "    <tr>\n",
       "      <th>5</th>\n",
       "      <td>나는 아픈 건 딱 질색이니까</td>\n",
       "      <td>(여자)아이들</td>\n",
       "      <td>2</td>\n",
       "    </tr>\n",
       "  </tbody>\n",
       "</table>\n",
       "</div>"
      ],
      "text/plain": [
       "                 title              artist  \\\n",
       "rank                                         \n",
       "1                  밤양갱           비비 (BIBI)   \n",
       "2     첫 만남은 계획대로 되지 않아           TWS (투어스)   \n",
       "3        Love wins all                 아이유   \n",
       "4                 EASY  LE SSERAFIM (르세라핌)   \n",
       "5      나는 아픈 건 딱 질색이니까             (여자)아이들   \n",
       "\n",
       "                                    album  \n",
       "rank                                       \n",
       "1                                     밤양갱  \n",
       "2     TWS 1st Mini Album ‘Sparkling Blue’  \n",
       "3                             The Winning  \n",
       "4                                    EASY  \n",
       "5                                       2  "
      ]
     },
     "execution_count": 34,
     "metadata": {},
     "output_type": "execute_result"
    }
   ],
   "source": [
    "text = response.text\n",
    "html = BeautifulSoup(text, 'html.parser')\n",
    "tr_list = html.find('tbody').find_all('tr')\n",
    "\n",
    "rows = []\n",
    "for tr in tr_list[:5]:\n",
    "    rank = tr.find('span', {'class':'rank'}).text\n",
    "    title = tr.find('div', {'class':'ellipsis rank01'}).find('a').text\n",
    "    artist = tr.find('div', {'class':'ellipsis rank02'}).find('a').text\n",
    "    album = tr.find('div', {'class':'ellipsis rank03'}).find('a').text\n",
    "    row = [rank, title, artist, album]\n",
    "    rows.append(row)\n",
    "chart = pd.DataFrame(rows, columns = ['rank', 'title', 'artist', 'album'])\n",
    "chart.set_index('rank', inplace = True)\n",
    "chart"
   ]
  },
  {
   "cell_type": "code",
   "execution_count": null,
   "id": "4ca3a2de",
   "metadata": {
    "scrolled": false
   },
   "outputs": [],
   "source": []
  }
 ],
 "metadata": {
  "kernelspec": {
   "display_name": "Python 3 (ipykernel)",
   "language": "python",
   "name": "python3"
  },
  "language_info": {
   "codemirror_mode": {
    "name": "ipython",
    "version": 3
   },
   "file_extension": ".py",
   "mimetype": "text/x-python",
   "name": "python",
   "nbconvert_exporter": "python",
   "pygments_lexer": "ipython3",
   "version": "3.11.5"
  }
 },
 "nbformat": 4,
 "nbformat_minor": 5
}
