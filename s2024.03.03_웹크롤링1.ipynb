{
 "cells": [
  {
   "cell_type": "code",
   "execution_count": 42,
   "id": "5c757682",
   "metadata": {},
   "outputs": [],
   "source": [
    "# 0. bs4 모듈의 BeautifulSoup 클래스 사용\n",
    "import pandas as pd\n",
    "import requests\n",
    "from bs4 import BeautifulSoup\n",
    "from time import sleep"
   ]
  },
  {
   "cell_type": "code",
   "execution_count": 16,
   "id": "01afce91",
   "metadata": {},
   "outputs": [
    {
     "name": "stdout",
     "output_type": "stream",
     "text": [
      "<class 'str'>\n",
      "<html lang=\"ko\">\n",
      "    <head>\n",
      "        <title>안재덕의 홈페이지</title>\n"
     ]
    }
   ],
   "source": [
    "# 1. 웹(html)문서 불러오기\n",
    "#    1-1. 다운받아 놓은 웹(html)문서 불러오기\n",
    "file = open('html/index.html', encoding = 'utf-8')\n",
    "read = file.read()\n",
    "file.close()\n",
    "\n",
    "print( type(read) )\n",
    "print( read[:60] )"
   ]
  },
  {
   "cell_type": "code",
   "execution_count": 20,
   "id": "898d0afa",
   "metadata": {},
   "outputs": [
    {
     "name": "stdout",
     "output_type": "stream",
     "text": [
      "<class 'bs4.BeautifulSoup'>\n"
     ]
    },
    {
     "data": {
      "text/plain": [
       "<html lang=\"ko\">\n",
       "<head>\n",
       "<title>안재덕의 홈페이지</title>\n",
       "<meta charset=\"utf-8\"/>\n",
       "<style>\n",
       "</style>\n",
       "</head>\n",
       "<body>\n",
       "        안녕하세요.<br/>\n",
       "        안재덕의 홈페이지에 오신걸 환영합니다.<br/>\n",
       "<ul>내가 좋아하는 것들\n",
       "            <li>게임</li>\n",
       "<li>여행</li>\n",
       "<li>영화</li>\n",
       "</ul>\n",
       "<ul>내가 싫어하는 것들\n",
       "            <li>잔소리</li>\n",
       "<li>청소</li>\n",
       "<li>정리</li>\n",
       "</ul>\n",
       "</body>\n",
       "</html>"
      ]
     },
     "execution_count": 20,
     "metadata": {},
     "output_type": "execute_result"
    }
   ],
   "source": [
    "# 2. 웹문서내용(str,문자열)을 분석 가능한 객체(bs4.BeautifulSoup) 생성\n",
    "html = BeautifulSoup(read, 'html.parser')\n",
    "print( type(html) )\n",
    "html"
   ]
  },
  {
   "cell_type": "code",
   "execution_count": 26,
   "id": "075b9ef3",
   "metadata": {},
   "outputs": [
    {
     "name": "stdout",
     "output_type": "stream",
     "text": [
      "<class 'bs4.element.Tag'>\n",
      "<title>안재덕의 홈페이지</title>\n",
      "사이트제목: 안재덕의 홈페이지\n"
     ]
    }
   ],
   "source": [
    "# 3. find, find_all 메소드등을 이용하여 특정한 <tag> 블럭 조회\n",
    "title = html.find('title')\n",
    "print( type(title) )\n",
    "print( title )\n",
    "print('사이트제목:', title.text )"
   ]
  },
  {
   "cell_type": "code",
   "execution_count": 47,
   "id": "61483fef",
   "metadata": {},
   "outputs": [
    {
     "data": {
      "text/plain": [
       "[['게임', '여행', '영화'], ['잔소리', '청소', '정리']]"
      ]
     },
     "execution_count": 47,
     "metadata": {},
     "output_type": "execute_result"
    }
   ],
   "source": [
    "ul_list = html.find_all('ul')\n",
    "\n",
    "rows = []\n",
    "for ul in ul_list:\n",
    "    li_list = ul.find_all('li')\n",
    "    row = []\n",
    "    for li in li_list:\n",
    "        data = li.text\n",
    "        row.append(data)\n",
    "    rows.append(row)\n",
    "rows"
   ]
  },
  {
   "cell_type": "code",
   "execution_count": 70,
   "id": "49869ae0",
   "metadata": {},
   "outputs": [
    {
     "data": {
      "text/html": [
       "<div>\n",
       "<style scoped>\n",
       "    .dataframe tbody tr th:only-of-type {\n",
       "        vertical-align: middle;\n",
       "    }\n",
       "\n",
       "    .dataframe tbody tr th {\n",
       "        vertical-align: top;\n",
       "    }\n",
       "\n",
       "    .dataframe thead th {\n",
       "        text-align: right;\n",
       "    }\n",
       "</style>\n",
       "<table border=\"1\" class=\"dataframe\">\n",
       "  <thead>\n",
       "    <tr style=\"text-align: right;\">\n",
       "      <th></th>\n",
       "      <th>name</th>\n",
       "      <th>age</th>\n",
       "      <th>addr</th>\n",
       "    </tr>\n",
       "    <tr>\n",
       "      <th>id</th>\n",
       "      <th></th>\n",
       "      <th></th>\n",
       "      <th></th>\n",
       "    </tr>\n",
       "  </thead>\n",
       "  <tbody>\n",
       "    <tr>\n",
       "      <th>hong</th>\n",
       "      <td>홍길동</td>\n",
       "      <td>23</td>\n",
       "      <td>경기</td>\n",
       "    </tr>\n",
       "    <tr>\n",
       "      <th>hwang</th>\n",
       "      <td>황진이</td>\n",
       "      <td>25</td>\n",
       "      <td>서울</td>\n",
       "    </tr>\n",
       "    <tr>\n",
       "      <th>dog</th>\n",
       "      <td>멍멍이</td>\n",
       "      <td>5</td>\n",
       "      <td>제주</td>\n",
       "    </tr>\n",
       "    <tr>\n",
       "      <th>cat</th>\n",
       "      <td>야옹이</td>\n",
       "      <td>3</td>\n",
       "      <td>울룽</td>\n",
       "    </tr>\n",
       "  </tbody>\n",
       "</table>\n",
       "</div>"
      ],
      "text/plain": [
       "      name age addr\n",
       "id                 \n",
       "hong   홍길동  23   경기\n",
       "hwang  황진이  25   서울\n",
       "dog    멍멍이   5   제주\n",
       "cat    야옹이   3   울룽"
      ]
     },
     "execution_count": 70,
     "metadata": {},
     "output_type": "execute_result"
    }
   ],
   "source": [
    "file = open('html/table.html', 'r', encoding = 'utf-8')\n",
    "read = file.read()\n",
    "file.close()\n",
    "\n",
    "html = BeautifulSoup(read, 'html.parser')\n",
    "\n",
    "tr_list = html.find('tbody').find_all('tr')\n",
    "\n",
    "rows = []\n",
    "for tr in tr_list:\n",
    "    td_list = tr.find_all('td')\n",
    "    row = []\n",
    "    for td in td_list:\n",
    "        data = td.text\n",
    "        row.append(data)\n",
    "    rows.append(row)\n",
    "\n",
    "df = pd.DataFrame(rows, columns = ['id', 'name', 'age', 'addr'])\n",
    "df.set_index('id', inplace = True)\n",
    "df"
   ]
  },
  {
   "cell_type": "code",
   "execution_count": 67,
   "id": "77e339f0",
   "metadata": {},
   "outputs": [
    {
     "data": {
      "text/plain": [
       "'123'"
      ]
     },
     "execution_count": 67,
     "metadata": {},
     "output_type": "execute_result"
    }
   ],
   "source": []
  }
 ],
 "metadata": {
  "kernelspec": {
   "display_name": "Python 3 (ipykernel)",
   "language": "python",
   "name": "python3"
  },
  "language_info": {
   "codemirror_mode": {
    "name": "ipython",
    "version": 3
   },
   "file_extension": ".py",
   "mimetype": "text/x-python",
   "name": "python",
   "nbconvert_exporter": "python",
   "pygments_lexer": "ipython3",
   "version": "3.11.5"
  }
 },
 "nbformat": 4,
 "nbformat_minor": 5
}
